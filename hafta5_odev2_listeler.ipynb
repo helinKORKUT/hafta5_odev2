{
 "cells": [
  {
   "cell_type": "code",
   "execution_count": 2,
   "id": "1417f5b1",
   "metadata": {},
   "outputs": [],
   "source": [
    "#Aşağıdaki işlemleri indexing ve slicing kullanarak liste üzerinde uygulayın.\n",
    "\n",
    "liste = [\"Python\",True,9,\"3\",8.4,\"Hi-Kod\",\"False\",4.7]\n",
    "\n",
    "# \"3\" değerine ulaşmak için indexleme yapın."
   ]
  },
  {
   "cell_type": "code",
   "execution_count": 3,
   "id": "a2638bce",
   "metadata": {},
   "outputs": [
    {
     "data": {
      "text/plain": [
       "'3'"
      ]
     },
     "execution_count": 3,
     "metadata": {},
     "output_type": "execute_result"
    }
   ],
   "source": [
    "liste[3]"
   ]
  },
  {
   "cell_type": "code",
   "execution_count": null,
   "id": "d20d754b",
   "metadata": {},
   "outputs": [],
   "source": [
    "# \"Hi-Kod\" değerine ulaşmak için indexleme yapın"
   ]
  },
  {
   "cell_type": "code",
   "execution_count": 4,
   "id": "d988335e",
   "metadata": {},
   "outputs": [
    {
     "data": {
      "text/plain": [
       "'Hi-Kod'"
      ]
     },
     "execution_count": 4,
     "metadata": {},
     "output_type": "execute_result"
    }
   ],
   "source": [
    "liste[5]"
   ]
  },
  {
   "cell_type": "code",
   "execution_count": null,
   "id": "038fbff7",
   "metadata": {},
   "outputs": [],
   "source": [
    "# 4.7 değerine ulaşmak için indexleme yapın."
   ]
  },
  {
   "cell_type": "code",
   "execution_count": 5,
   "id": "3f6c39a6",
   "metadata": {},
   "outputs": [
    {
     "data": {
      "text/plain": [
       "4.7"
      ]
     },
     "execution_count": 5,
     "metadata": {},
     "output_type": "execute_result"
    }
   ],
   "source": [
    "liste[-1]"
   ]
  },
  {
   "cell_type": "code",
   "execution_count": null,
   "id": "9071e57e",
   "metadata": {},
   "outputs": [],
   "source": [
    "# 9,\"3\",8.4,\"Hi-Kod\" değerlerine ulaşmak için slicing yapın."
   ]
  },
  {
   "cell_type": "code",
   "execution_count": 7,
   "id": "dddc66ed",
   "metadata": {},
   "outputs": [
    {
     "data": {
      "text/plain": [
       "[9, '3', 8.4, 'Hi-Kod']"
      ]
     },
     "execution_count": 7,
     "metadata": {},
     "output_type": "execute_result"
    }
   ],
   "source": [
    "liste[2:6]"
   ]
  },
  {
   "cell_type": "code",
   "execution_count": null,
   "id": "9680c227",
   "metadata": {},
   "outputs": [],
   "source": [
    "# 8.4,\"Hi-Kod\",\"False\",4.7 değerlerine ulaşmak için slicing yapın."
   ]
  },
  {
   "cell_type": "code",
   "execution_count": 8,
   "id": "43295f60",
   "metadata": {},
   "outputs": [
    {
     "data": {
      "text/plain": [
       "['Python', True, 9, '3', 8.4, 'Hi-Kod', 'False', 4.7]"
      ]
     },
     "execution_count": 8,
     "metadata": {},
     "output_type": "execute_result"
    }
   ],
   "source": [
    "liste"
   ]
  },
  {
   "cell_type": "code",
   "execution_count": 12,
   "id": "d635b315",
   "metadata": {},
   "outputs": [
    {
     "data": {
      "text/plain": [
       "[8.4, 'Hi-Kod', 'False', 4.7]"
      ]
     },
     "execution_count": 12,
     "metadata": {},
     "output_type": "execute_result"
    }
   ],
   "source": [
    "liste[4:8]"
   ]
  },
  {
   "cell_type": "code",
   "execution_count": 13,
   "id": "517875ac",
   "metadata": {},
   "outputs": [],
   "source": [
    "#Verilen listede bulunan string veri tipindeki öğeleri yeni_liste isimli listeye eklenir.\n",
    "\n",
    "liste = [\"Python\",True,9,\"3\",8.4,\"Hi-Kod\",\"False\",4.7]"
   ]
  },
  {
   "cell_type": "code",
   "execution_count": 23,
   "id": "b38da001",
   "metadata": {},
   "outputs": [
    {
     "name": "stdout",
     "output_type": "stream",
     "text": [
      "['Python', '3', 'Hi-Kod', 'False']\n"
     ]
    }
   ],
   "source": [
    "# !!!!!! isinstance() fonksiyonu liste elemanlarının veri tipini kontrol ederek sadece string olanları seçmemize yardımcı olur. \n",
    "\n",
    "yeni_liste = [element for element in liste if isinstance(element, str)]\n",
    "print(yeni_liste)"
   ]
  },
  {
   "cell_type": "code",
   "execution_count": 24,
   "id": "0b108726",
   "metadata": {},
   "outputs": [
    {
     "data": {
      "text/plain": [
       "['Python', '3', 'Hi-Kod', 'False']"
      ]
     },
     "execution_count": 24,
     "metadata": {},
     "output_type": "execute_result"
    }
   ],
   "source": [
    "yeni_liste"
   ]
  },
  {
   "cell_type": "code",
   "execution_count": null,
   "id": "f818092b",
   "metadata": {},
   "outputs": [],
   "source": [
    "#Enumerate methodunu araştırın ve aşağıdaki örneği enumerate methodu ile yapın.\n",
    "#for index in range(len(meyveler)):\n",
    "#print(\"{}. indexte bulunan meyve: {}\".format(index,meyveler[index])"
   ]
  },
  {
   "cell_type": "code",
   "execution_count": 25,
   "id": "ac65ae69",
   "metadata": {},
   "outputs": [
    {
     "name": "stdout",
     "output_type": "stream",
     "text": [
      "0. indexte bulunan meyve: elma\n",
      "1. indexte bulunan meyve: armut\n",
      "2. indexte bulunan meyve: kiraz\n",
      "3. indexte bulunan meyve: muz\n"
     ]
    }
   ],
   "source": [
    "meyveler = ['elma', 'armut', 'kiraz', 'muz']\n",
    "\n",
    "for index, meyve in enumerate(meyveler):\n",
    "    print(\"{}. indexte bulunan meyve: {}\".format(index, meyve))"
   ]
  },
  {
   "cell_type": "code",
   "execution_count": 30,
   "id": "5362aacf",
   "metadata": {},
   "outputs": [
    {
     "name": "stdout",
     "output_type": "stream",
     "text": [
      "0. indexte bulunan meyve: elma\n",
      "1. indexte bulunan meyve: armut\n",
      "2. indexte bulunan meyve: kiraz\n",
      "3. indexte bulunan meyve: muz\n"
     ]
    }
   ],
   "source": [
    "meyveler = ['elma', 'armut', 'kiraz', 'muz']\n",
    "\n",
    "for index in range(len(meyveler)):\n",
    "    print(\"{}. indexte bulunan meyve: {}\".format(index,meyveler[index]))"
   ]
  },
  {
   "cell_type": "code",
   "execution_count": null,
   "id": "d284e1d3",
   "metadata": {},
   "outputs": [],
   "source": []
  }
 ],
 "metadata": {
  "kernelspec": {
   "display_name": "Python 3 (ipykernel)",
   "language": "python",
   "name": "python3"
  },
  "language_info": {
   "codemirror_mode": {
    "name": "ipython",
    "version": 3
   },
   "file_extension": ".py",
   "mimetype": "text/x-python",
   "name": "python",
   "nbconvert_exporter": "python",
   "pygments_lexer": "ipython3",
   "version": "3.9.13"
  }
 },
 "nbformat": 4,
 "nbformat_minor": 5
}
